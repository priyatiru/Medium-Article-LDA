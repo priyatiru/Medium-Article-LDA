{
  "nbformat": 4,
  "nbformat_minor": 0,
  "metadata": {
    "colab": {
      "name": "Medium_LDA.ipynb",
      "provenance": []
    },
    "kernelspec": {
      "name": "python3",
      "display_name": "Python 3"
    }
  },
  "cells": [
    {
      "cell_type": "code",
      "metadata": {
        "id": "VgYNeNVDDzcs",
        "colab_type": "code",
        "colab": {}
      },
      "source": [
        "import os\n",
        "import pandas as pd\n",
        "import numpy as np\n",
        "import matplotlib.pyplot as plt\n",
        "import seaborn as sns\n",
        "import nltk\n",
        "import string\n",
        "import re\n",
        "from wordcloud import WordCloud\n",
        "import warnings"
      ],
      "execution_count": 28,
      "outputs": []
    },
    {
      "cell_type": "code",
      "metadata": {
        "id": "5zHJKeg1Es0U",
        "colab_type": "code",
        "colab": {
          "resources": {
            "http://localhost:8080/nbextensions/google.colab/files.js": {
              "data": "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",
              "ok": true,
              "headers": [
                [
                  "content-type",
                  "application/javascript"
                ]
              ],
              "status": 200,
              "status_text": ""
            }
          },
          "base_uri": "https://localhost:8080/",
          "height": 73
        },
        "outputId": "991a2be8-2004-4f1d-e330-aff5a77ca53e"
      },
      "source": [
        "from google.colab import files\n",
        "data = files.upload()"
      ],
      "execution_count": 2,
      "outputs": [
        {
          "output_type": "display_data",
          "data": {
            "text/html": [
              "\n",
              "     <input type=\"file\" id=\"files-38631d06-b047-4eb1-a63a-533068d26e03\" name=\"files[]\" multiple disabled\n",
              "        style=\"border:none\" />\n",
              "     <output id=\"result-38631d06-b047-4eb1-a63a-533068d26e03\">\n",
              "      Upload widget is only available when the cell has been executed in the\n",
              "      current browser session. Please rerun this cell to enable.\n",
              "      </output>\n",
              "      <script src=\"/nbextensions/google.colab/files.js\"></script> "
            ],
            "text/plain": [
              "<IPython.core.display.HTML object>"
            ]
          },
          "metadata": {
            "tags": []
          }
        },
        {
          "output_type": "stream",
          "text": [
            "Saving medium_data.csv to medium_data.csv\n"
          ],
          "name": "stdout"
        }
      ]
    },
    {
      "cell_type": "code",
      "metadata": {
        "id": "Bgv6yIDRF1sb",
        "colab_type": "code",
        "colab": {}
      },
      "source": [
        "import io\n",
        "df = pd.read_csv(io.BytesIO(data['medium_data.csv']))"
      ],
      "execution_count": 3,
      "outputs": []
    },
    {
      "cell_type": "code",
      "metadata": {
        "id": "90LV7aK9GA2t",
        "colab_type": "code",
        "colab": {
          "base_uri": "https://localhost:8080/",
          "height": 792
        },
        "outputId": "370a9d5d-d6e6-43a8-f61c-c552348b27e0"
      },
      "source": [
        "df.head(n=10)"
      ],
      "execution_count": 5,
      "outputs": [
        {
          "output_type": "execute_result",
          "data": {
            "text/html": [
              "<div>\n",
              "<style scoped>\n",
              "    .dataframe tbody tr th:only-of-type {\n",
              "        vertical-align: middle;\n",
              "    }\n",
              "\n",
              "    .dataframe tbody tr th {\n",
              "        vertical-align: top;\n",
              "    }\n",
              "\n",
              "    .dataframe thead th {\n",
              "        text-align: right;\n",
              "    }\n",
              "</style>\n",
              "<table border=\"1\" class=\"dataframe\">\n",
              "  <thead>\n",
              "    <tr style=\"text-align: right;\">\n",
              "      <th></th>\n",
              "      <th>id</th>\n",
              "      <th>url</th>\n",
              "      <th>title</th>\n",
              "      <th>subtitle</th>\n",
              "      <th>image</th>\n",
              "      <th>claps</th>\n",
              "      <th>responses</th>\n",
              "      <th>reading_time</th>\n",
              "      <th>publication</th>\n",
              "      <th>date</th>\n",
              "    </tr>\n",
              "  </thead>\n",
              "  <tbody>\n",
              "    <tr>\n",
              "      <th>0</th>\n",
              "      <td>1</td>\n",
              "      <td>https://towardsdatascience.com/a-beginners-gui...</td>\n",
              "      <td>A Beginner’s Guide to Word Embedding with Gens...</td>\n",
              "      <td>NaN</td>\n",
              "      <td>1.png</td>\n",
              "      <td>850</td>\n",
              "      <td>8</td>\n",
              "      <td>8</td>\n",
              "      <td>Towards Data Science</td>\n",
              "      <td>2019-05-30</td>\n",
              "    </tr>\n",
              "    <tr>\n",
              "      <th>1</th>\n",
              "      <td>2</td>\n",
              "      <td>https://towardsdatascience.com/hands-on-graph-...</td>\n",
              "      <td>Hands-on Graph Neural Networks with PyTorch &amp; ...</td>\n",
              "      <td>NaN</td>\n",
              "      <td>2.png</td>\n",
              "      <td>1100</td>\n",
              "      <td>11</td>\n",
              "      <td>9</td>\n",
              "      <td>Towards Data Science</td>\n",
              "      <td>2019-05-30</td>\n",
              "    </tr>\n",
              "    <tr>\n",
              "      <th>2</th>\n",
              "      <td>3</td>\n",
              "      <td>https://towardsdatascience.com/how-to-use-ggpl...</td>\n",
              "      <td>How to Use ggplot2 in Python</td>\n",
              "      <td>A Grammar of Graphics for Python</td>\n",
              "      <td>3.png</td>\n",
              "      <td>767</td>\n",
              "      <td>1</td>\n",
              "      <td>5</td>\n",
              "      <td>Towards Data Science</td>\n",
              "      <td>2019-05-30</td>\n",
              "    </tr>\n",
              "    <tr>\n",
              "      <th>3</th>\n",
              "      <td>4</td>\n",
              "      <td>https://towardsdatascience.com/databricks-how-...</td>\n",
              "      <td>Databricks: How to Save Files in CSV on Your L...</td>\n",
              "      <td>When I work on Python projects dealing…</td>\n",
              "      <td>4.jpeg</td>\n",
              "      <td>354</td>\n",
              "      <td>0</td>\n",
              "      <td>4</td>\n",
              "      <td>Towards Data Science</td>\n",
              "      <td>2019-05-30</td>\n",
              "    </tr>\n",
              "    <tr>\n",
              "      <th>4</th>\n",
              "      <td>5</td>\n",
              "      <td>https://towardsdatascience.com/a-step-by-step-...</td>\n",
              "      <td>A Step-by-Step Implementation of Gradient Desc...</td>\n",
              "      <td>One example of building neural…</td>\n",
              "      <td>5.jpeg</td>\n",
              "      <td>211</td>\n",
              "      <td>3</td>\n",
              "      <td>4</td>\n",
              "      <td>Towards Data Science</td>\n",
              "      <td>2019-05-30</td>\n",
              "    </tr>\n",
              "    <tr>\n",
              "      <th>5</th>\n",
              "      <td>6</td>\n",
              "      <td>https://towardsdatascience.com/an-easy-introdu...</td>\n",
              "      <td>An Easy Introduction to SQL for Data Scientists</td>\n",
              "      <td>NaN</td>\n",
              "      <td>6.jpeg</td>\n",
              "      <td>563</td>\n",
              "      <td>1</td>\n",
              "      <td>8</td>\n",
              "      <td>Towards Data Science</td>\n",
              "      <td>2019-05-30</td>\n",
              "    </tr>\n",
              "    <tr>\n",
              "      <th>6</th>\n",
              "      <td>7</td>\n",
              "      <td>https://towardsdatascience.com/hypothesis-test...</td>\n",
              "      <td>Hypothesis testing visualized</td>\n",
              "      <td>Literally seeing how stat tests work</td>\n",
              "      <td>7.gif</td>\n",
              "      <td>276</td>\n",
              "      <td>1</td>\n",
              "      <td>12</td>\n",
              "      <td>Towards Data Science</td>\n",
              "      <td>2019-05-30</td>\n",
              "    </tr>\n",
              "    <tr>\n",
              "      <th>7</th>\n",
              "      <td>8</td>\n",
              "      <td>https://towardsdatascience.com/introduction-to...</td>\n",
              "      <td>Introduction to Latent Matrix Factorization Re...</td>\n",
              "      <td>NaN</td>\n",
              "      <td>8.png</td>\n",
              "      <td>126</td>\n",
              "      <td>2</td>\n",
              "      <td>5</td>\n",
              "      <td>Towards Data Science</td>\n",
              "      <td>2019-05-30</td>\n",
              "    </tr>\n",
              "    <tr>\n",
              "      <th>8</th>\n",
              "      <td>9</td>\n",
              "      <td>https://towardsdatascience.com/which-2020-cand...</td>\n",
              "      <td>Which 2020 Candidate is the Best at Twitter?</td>\n",
              "      <td>A Data Analysis of the 2020 Democratic Candida...</td>\n",
              "      <td>9.png</td>\n",
              "      <td>188</td>\n",
              "      <td>3</td>\n",
              "      <td>8</td>\n",
              "      <td>Towards Data Science</td>\n",
              "      <td>2019-05-30</td>\n",
              "    </tr>\n",
              "    <tr>\n",
              "      <th>9</th>\n",
              "      <td>10</td>\n",
              "      <td>https://towardsdatascience.com/what-if-ai-mode...</td>\n",
              "      <td>What if AI model understanding were easy?</td>\n",
              "      <td>See  analytics-for-AI in action in this What-I...</td>\n",
              "      <td>10.jpg</td>\n",
              "      <td>493</td>\n",
              "      <td>2</td>\n",
              "      <td>8</td>\n",
              "      <td>Towards Data Science</td>\n",
              "      <td>2019-05-30</td>\n",
              "    </tr>\n",
              "  </tbody>\n",
              "</table>\n",
              "</div>"
            ],
            "text/plain": [
              "   id  ...        date\n",
              "0   1  ...  2019-05-30\n",
              "1   2  ...  2019-05-30\n",
              "2   3  ...  2019-05-30\n",
              "3   4  ...  2019-05-30\n",
              "4   5  ...  2019-05-30\n",
              "5   6  ...  2019-05-30\n",
              "6   7  ...  2019-05-30\n",
              "7   8  ...  2019-05-30\n",
              "8   9  ...  2019-05-30\n",
              "9  10  ...  2019-05-30\n",
              "\n",
              "[10 rows x 10 columns]"
            ]
          },
          "metadata": {
            "tags": []
          },
          "execution_count": 5
        }
      ]
    },
    {
      "cell_type": "markdown",
      "metadata": {
        "id": "ml4CgfonGgER",
        "colab_type": "text"
      },
      "source": [
        "POPULAR ARTICLES\n"
      ]
    },
    {
      "cell_type": "code",
      "metadata": {
        "id": "UyJIrXsJGny3",
        "colab_type": "code",
        "colab": {
          "base_uri": "https://localhost:8080/",
          "height": 1000
        },
        "outputId": "fc7d3589-ce1a-4247-ee44-4d5779e99c26"
      },
      "source": [
        "top20_articles = df.sort_values([\"claps\"],ascending=0)[0:20]\n",
        "top20_articles.reset_index(drop=True, inplace=True)\n",
        "top20_articles"
      ],
      "execution_count": 6,
      "outputs": [
        {
          "output_type": "execute_result",
          "data": {
            "text/html": [
              "<div>\n",
              "<style scoped>\n",
              "    .dataframe tbody tr th:only-of-type {\n",
              "        vertical-align: middle;\n",
              "    }\n",
              "\n",
              "    .dataframe tbody tr th {\n",
              "        vertical-align: top;\n",
              "    }\n",
              "\n",
              "    .dataframe thead th {\n",
              "        text-align: right;\n",
              "    }\n",
              "</style>\n",
              "<table border=\"1\" class=\"dataframe\">\n",
              "  <thead>\n",
              "    <tr style=\"text-align: right;\">\n",
              "      <th></th>\n",
              "      <th>id</th>\n",
              "      <th>url</th>\n",
              "      <th>title</th>\n",
              "      <th>subtitle</th>\n",
              "      <th>image</th>\n",
              "      <th>claps</th>\n",
              "      <th>responses</th>\n",
              "      <th>reading_time</th>\n",
              "      <th>publication</th>\n",
              "      <th>date</th>\n",
              "    </tr>\n",
              "  </thead>\n",
              "  <tbody>\n",
              "    <tr>\n",
              "      <th>0</th>\n",
              "      <td>4553</td>\n",
              "      <td>https://medium.com/swlh/i-have-15-ideas-to-cha...</td>\n",
              "      <td>I Have 15 ideas To Change Your Life. Do you Ha...</td>\n",
              "      <td>NaN</td>\n",
              "      <td>4553.png</td>\n",
              "      <td>38000</td>\n",
              "      <td>170</td>\n",
              "      <td>5</td>\n",
              "      <td>The Startup</td>\n",
              "      <td>2019-05-20</td>\n",
              "    </tr>\n",
              "    <tr>\n",
              "      <th>1</th>\n",
              "      <td>1282</td>\n",
              "      <td>https://medium.com/better-marketing/how-to-han...</td>\n",
              "      <td>How To Handle Other People’s Bad Moods Like a Pro</td>\n",
              "      <td>Step 1: Treat difficult emotions like a puzzle...</td>\n",
              "      <td>1282.jpeg</td>\n",
              "      <td>23000</td>\n",
              "      <td>74</td>\n",
              "      <td>7</td>\n",
              "      <td>Better Marketing</td>\n",
              "      <td>2019-09-11</td>\n",
              "    </tr>\n",
              "    <tr>\n",
              "      <th>2</th>\n",
              "      <td>1004</td>\n",
              "      <td>https://medium.com/swlh/if-you-learn-to-write-...</td>\n",
              "      <td>&lt;strong class=\"markup--strong markup--h3-stron...</td>\n",
              "      <td>The secret is in the line.</td>\n",
              "      <td>1004.jpeg</td>\n",
              "      <td>20000</td>\n",
              "      <td>78</td>\n",
              "      <td>6</td>\n",
              "      <td>The Startup</td>\n",
              "      <td>2019-10-14</td>\n",
              "    </tr>\n",
              "    <tr>\n",
              "      <th>3</th>\n",
              "      <td>3593</td>\n",
              "      <td>https://medium.com/swlh/how-to-break-a-negativ...</td>\n",
              "      <td>How To Break A Negative Thought Loop</td>\n",
              "      <td>“It’s pretty black-and-white. You either let g...</td>\n",
              "      <td>3593.png</td>\n",
              "      <td>16400</td>\n",
              "      <td>58</td>\n",
              "      <td>4</td>\n",
              "      <td>The Startup</td>\n",
              "      <td>2019-07-21</td>\n",
              "    </tr>\n",
              "    <tr>\n",
              "      <th>4</th>\n",
              "      <td>5934</td>\n",
              "      <td>https://writingcooperative.com/10-things-to-do...</td>\n",
              "      <td>10 Things To Do When Medium Doesn’t Curate You...</td>\n",
              "      <td>When I have a curation gap, I go into my…</td>\n",
              "      <td>5934.jpeg</td>\n",
              "      <td>12600</td>\n",
              "      <td>117</td>\n",
              "      <td>5</td>\n",
              "      <td>The Writing Cooperative</td>\n",
              "      <td>2019-03-18</td>\n",
              "    </tr>\n",
              "    <tr>\n",
              "      <th>5</th>\n",
              "      <td>39</td>\n",
              "      <td>https://medium.com/swlh/how-to-retain-more-fro...</td>\n",
              "      <td>How To Retain More From The Books You Read</td>\n",
              "      <td>Making sure you get the most out of reading.</td>\n",
              "      <td>39.png</td>\n",
              "      <td>11700</td>\n",
              "      <td>58</td>\n",
              "      <td>5</td>\n",
              "      <td>The Startup</td>\n",
              "      <td>2019-05-30</td>\n",
              "    </tr>\n",
              "    <tr>\n",
              "      <th>6</th>\n",
              "      <td>672</td>\n",
              "      <td>https://medium.com/swlh/the-only-3-types-of-wr...</td>\n",
              "      <td>The Only 3 Types of Writing People Actually Wa...</td>\n",
              "      <td>NaN</td>\n",
              "      <td>672.jpg</td>\n",
              "      <td>11300</td>\n",
              "      <td>76</td>\n",
              "      <td>5</td>\n",
              "      <td>The Startup</td>\n",
              "      <td>2019-04-07</td>\n",
              "    </tr>\n",
              "    <tr>\n",
              "      <th>7</th>\n",
              "      <td>3806</td>\n",
              "      <td>https://medium.com/better-marketing/to-be-well...</td>\n",
              "      <td>&lt;strong class=\"markup--strong markup--h3-stron...</td>\n",
              "      <td>&lt;strong class=\"markup--strong markup--h4-stron...</td>\n",
              "      <td>3806.jpeg</td>\n",
              "      <td>10800</td>\n",
              "      <td>41</td>\n",
              "      <td>4</td>\n",
              "      <td>Better Marketing</td>\n",
              "      <td>2019-08-08</td>\n",
              "    </tr>\n",
              "    <tr>\n",
              "      <th>8</th>\n",
              "      <td>3684</td>\n",
              "      <td>https://uxdesign.cc/10-best-chrome-extensions-...</td>\n",
              "      <td>10 best Chrome extensions for designers</td>\n",
              "      <td>After months of testing, here are the 10 best ...</td>\n",
              "      <td>3684.png</td>\n",
              "      <td>10500</td>\n",
              "      <td>53</td>\n",
              "      <td>5</td>\n",
              "      <td>UX Collective</td>\n",
              "      <td>2019-08-08</td>\n",
              "    </tr>\n",
              "    <tr>\n",
              "      <th>9</th>\n",
              "      <td>4041</td>\n",
              "      <td>https://medium.com/swlh/how-to-write-and-publi...</td>\n",
              "      <td>How to Write and Publish Articles that get Not...</td>\n",
              "      <td>Simple techniques for creating content that’s ...</td>\n",
              "      <td>4041.jpeg</td>\n",
              "      <td>10100</td>\n",
              "      <td>82</td>\n",
              "      <td>11</td>\n",
              "      <td>The Startup</td>\n",
              "      <td>2019-04-30</td>\n",
              "    </tr>\n",
              "    <tr>\n",
              "      <th>10</th>\n",
              "      <td>6326</td>\n",
              "      <td>https://medium.com/better-humans/how-to-do-a-l...</td>\n",
              "      <td>How to Increase Your Motivation in 2 Minutes p...</td>\n",
              "      <td>“When performance is measured, performance…</td>\n",
              "      <td>6326.jpeg</td>\n",
              "      <td>9700</td>\n",
              "      <td>28</td>\n",
              "      <td>5</td>\n",
              "      <td>Better Humans</td>\n",
              "      <td>2019-06-27</td>\n",
              "    </tr>\n",
              "    <tr>\n",
              "      <th>11</th>\n",
              "      <td>1283</td>\n",
              "      <td>https://medium.com/better-marketing/how-to-cre...</td>\n",
              "      <td>How To Create a Passive Income Machine</td>\n",
              "      <td>Even if you’re broke, clueless, and don’t know...</td>\n",
              "      <td>1283.jpg</td>\n",
              "      <td>9400</td>\n",
              "      <td>50</td>\n",
              "      <td>10</td>\n",
              "      <td>Better Marketing</td>\n",
              "      <td>2019-09-11</td>\n",
              "    </tr>\n",
              "    <tr>\n",
              "      <th>12</th>\n",
              "      <td>4025</td>\n",
              "      <td>https://uxdesign.cc/the-mcdonaldization-of-ux-...</td>\n",
              "      <td>The McDonaldization of UX</td>\n",
              "      <td>The Dawning of the “McUX” Designer</td>\n",
              "      <td>4025.jpeg</td>\n",
              "      <td>9400</td>\n",
              "      <td>86</td>\n",
              "      <td>8</td>\n",
              "      <td>UX Collective</td>\n",
              "      <td>2019-04-30</td>\n",
              "    </tr>\n",
              "    <tr>\n",
              "      <th>13</th>\n",
              "      <td>3243</td>\n",
              "      <td>https://medium.com/better-humans/want-a-happie...</td>\n",
              "      <td>Want a Happier, More Fulfilling Life? 75-Year ...</td>\n",
              "      <td>NaN</td>\n",
              "      <td>3243.jpeg</td>\n",
              "      <td>9100</td>\n",
              "      <td>25</td>\n",
              "      <td>9</td>\n",
              "      <td>Better Humans</td>\n",
              "      <td>2019-04-25</td>\n",
              "    </tr>\n",
              "    <tr>\n",
              "      <th>14</th>\n",
              "      <td>5642</td>\n",
              "      <td>https://uxdesign.cc/7-simple-methods-to-get-be...</td>\n",
              "      <td>7 simple methods to get better at Visual/UI De...</td>\n",
              "      <td>“How to improve and getter better at visual/UI…</td>\n",
              "      <td>5642.jpeg</td>\n",
              "      <td>8900</td>\n",
              "      <td>12</td>\n",
              "      <td>7</td>\n",
              "      <td>UX Collective</td>\n",
              "      <td>2019-07-28</td>\n",
              "    </tr>\n",
              "    <tr>\n",
              "      <th>15</th>\n",
              "      <td>1621</td>\n",
              "      <td>https://medium.com/swlh/how-i-make-money-on-ai...</td>\n",
              "      <td>How I Make Money on Airbnb Without Owning or R...</td>\n",
              "      <td>NaN</td>\n",
              "      <td>1621.jpeg</td>\n",
              "      <td>8700</td>\n",
              "      <td>48</td>\n",
              "      <td>4</td>\n",
              "      <td>The Startup</td>\n",
              "      <td>2019-10-28</td>\n",
              "    </tr>\n",
              "    <tr>\n",
              "      <th>16</th>\n",
              "      <td>3493</td>\n",
              "      <td>https://uxdesign.cc/ui-cheat-sheets-buttons-73...</td>\n",
              "      <td>UI cheat sheets: buttons</td>\n",
              "      <td>NaN</td>\n",
              "      <td>3493.png</td>\n",
              "      <td>8100</td>\n",
              "      <td>27</td>\n",
              "      <td>13</td>\n",
              "      <td>UX Collective</td>\n",
              "      <td>2019-05-12</td>\n",
              "    </tr>\n",
              "    <tr>\n",
              "      <th>17</th>\n",
              "      <td>1897</td>\n",
              "      <td>https://towardsdatascience.com/12-things-i-lea...</td>\n",
              "      <td>12 Things I Learned During My First Year as a ...</td>\n",
              "      <td>Being your own biggest…</td>\n",
              "      <td>1897.jpeg</td>\n",
              "      <td>8000</td>\n",
              "      <td>18</td>\n",
              "      <td>11</td>\n",
              "      <td>Towards Data Science</td>\n",
              "      <td>2019-07-06</td>\n",
              "    </tr>\n",
              "    <tr>\n",
              "      <th>18</th>\n",
              "      <td>4206</td>\n",
              "      <td>https://medium.com/swlh/how-to-manage-your-tim...</td>\n",
              "      <td>How to Manage Your Time and Learn New Things E...</td>\n",
              "      <td>NaN</td>\n",
              "      <td>4206.jpeg</td>\n",
              "      <td>7300</td>\n",
              "      <td>26</td>\n",
              "      <td>4</td>\n",
              "      <td>The Startup</td>\n",
              "      <td>2019-10-23</td>\n",
              "    </tr>\n",
              "    <tr>\n",
              "      <th>19</th>\n",
              "      <td>1622</td>\n",
              "      <td>https://medium.com/swlh/how-to-sell-something-...</td>\n",
              "      <td>&lt;strong class=\"markup--strong markup--h3-stron...</td>\n",
              "      <td>NaN</td>\n",
              "      <td>1622.jpeg</td>\n",
              "      <td>7000</td>\n",
              "      <td>26</td>\n",
              "      <td>6</td>\n",
              "      <td>The Startup</td>\n",
              "      <td>2019-10-28</td>\n",
              "    </tr>\n",
              "  </tbody>\n",
              "</table>\n",
              "</div>"
            ],
            "text/plain": [
              "      id  ...        date\n",
              "0   4553  ...  2019-05-20\n",
              "1   1282  ...  2019-09-11\n",
              "2   1004  ...  2019-10-14\n",
              "3   3593  ...  2019-07-21\n",
              "4   5934  ...  2019-03-18\n",
              "5     39  ...  2019-05-30\n",
              "6    672  ...  2019-04-07\n",
              "7   3806  ...  2019-08-08\n",
              "8   3684  ...  2019-08-08\n",
              "9   4041  ...  2019-04-30\n",
              "10  6326  ...  2019-06-27\n",
              "11  1283  ...  2019-09-11\n",
              "12  4025  ...  2019-04-30\n",
              "13  3243  ...  2019-04-25\n",
              "14  5642  ...  2019-07-28\n",
              "15  1621  ...  2019-10-28\n",
              "16  3493  ...  2019-05-12\n",
              "17  1897  ...  2019-07-06\n",
              "18  4206  ...  2019-10-23\n",
              "19  1622  ...  2019-10-28\n",
              "\n",
              "[20 rows x 10 columns]"
            ]
          },
          "metadata": {
            "tags": []
          },
          "execution_count": 6
        }
      ]
    },
    {
      "cell_type": "markdown",
      "metadata": {
        "id": "vFj1oPMrG909",
        "colab_type": "text"
      },
      "source": [
        "PLOT OF ARTICLE DISTRIBUTION BY PUBLICATIONS"
      ]
    },
    {
      "cell_type": "code",
      "metadata": {
        "id": "eeKd4gdMHFIV",
        "colab_type": "code",
        "colab": {
          "base_uri": "https://localhost:8080/",
          "height": 316
        },
        "outputId": "63e0a3c5-e92a-4111-9243-2dfe93d9ace7"
      },
      "source": [
        "plt.figure(figsize=(20,5))\n",
        "sns.countplot(\"publication\", data=df, palette=\"bright\")\n",
        "\n",
        "#Observation : The Startup ranks the #1 and Towards Data Science ranks #2"
      ],
      "execution_count": 7,
      "outputs": [
        {
          "output_type": "execute_result",
          "data": {
            "text/plain": [
              "<matplotlib.axes._subplots.AxesSubplot at 0x7f84e928e668>"
            ]
          },
          "metadata": {
            "tags": []
          },
          "execution_count": 7
        },
        {
          "output_type": "display_data",
          "data": {
            "image/png": "[encoded data removed]",
            "text/plain": [
              "<Figure size 1440x360 with 1 Axes>"
            ]
          },
          "metadata": {
            "tags": [],
            "needs_background": "light"
          }
        }
      ]
    },
    {
      "cell_type": "markdown",
      "metadata": {
        "id": "O0ii1oQOGeSd",
        "colab_type": "text"
      },
      "source": [
        ""
      ]
    },
    {
      "cell_type": "markdown",
      "metadata": {
        "id": "Op4qM7rFISv8",
        "colab_type": "text"
      },
      "source": [
        "AVERAGE RESPONSES FROM DIFFERENT PUBLICATIONS.\n",
        "QUES : IS IT WORTH WRITING ON TOWARDS DATA SCIENCE?"
      ]
    },
    {
      "cell_type": "code",
      "metadata": {
        "id": "8uuif-zHIbR9",
        "colab_type": "code",
        "colab": {
          "base_uri": "https://localhost:8080/",
          "height": 290
        },
        "outputId": "aaf2fe8e-293f-4c8b-c071-7a0d007a3f6d"
      },
      "source": [
        "avg = df.groupby(by=\"publication\").mean()[[\"claps\"]]\n",
        "avg.sort_values([\"claps\"],ascending=False)"
      ],
      "execution_count": 8,
      "outputs": [
        {
          "output_type": "execute_result",
          "data": {
            "text/html": [
              "<div>\n",
              "<style scoped>\n",
              "    .dataframe tbody tr th:only-of-type {\n",
              "        vertical-align: middle;\n",
              "    }\n",
              "\n",
              "    .dataframe tbody tr th {\n",
              "        vertical-align: top;\n",
              "    }\n",
              "\n",
              "    .dataframe thead th {\n",
              "        text-align: right;\n",
              "    }\n",
              "</style>\n",
              "<table border=\"1\" class=\"dataframe\">\n",
              "  <thead>\n",
              "    <tr style=\"text-align: right;\">\n",
              "      <th></th>\n",
              "      <th>claps</th>\n",
              "    </tr>\n",
              "    <tr>\n",
              "      <th>publication</th>\n",
              "      <th></th>\n",
              "    </tr>\n",
              "  </thead>\n",
              "  <tbody>\n",
              "    <tr>\n",
              "      <th>Better Humans</th>\n",
              "      <td>1827.785714</td>\n",
              "    </tr>\n",
              "    <tr>\n",
              "      <th>Better Marketing</th>\n",
              "      <td>829.347107</td>\n",
              "    </tr>\n",
              "    <tr>\n",
              "      <th>UX Collective</th>\n",
              "      <td>380.924324</td>\n",
              "    </tr>\n",
              "    <tr>\n",
              "      <th>The Writing Cooperative</th>\n",
              "      <td>372.744417</td>\n",
              "    </tr>\n",
              "    <tr>\n",
              "      <th>The Startup</th>\n",
              "      <td>303.403815</td>\n",
              "    </tr>\n",
              "    <tr>\n",
              "      <th>Towards Data Science</th>\n",
              "      <td>283.631759</td>\n",
              "    </tr>\n",
              "    <tr>\n",
              "      <th>Data Driven Investor</th>\n",
              "      <td>95.034704</td>\n",
              "    </tr>\n",
              "  </tbody>\n",
              "</table>\n",
              "</div>"
            ],
            "text/plain": [
              "                               claps\n",
              "publication                         \n",
              "Better Humans            1827.785714\n",
              "Better Marketing          829.347107\n",
              "UX Collective             380.924324\n",
              "The Writing Cooperative   372.744417\n",
              "The Startup               303.403815\n",
              "Towards Data Science      283.631759\n",
              "Data Driven Investor       95.034704"
            ]
          },
          "metadata": {
            "tags": []
          },
          "execution_count": 8
        }
      ]
    },
    {
      "cell_type": "markdown",
      "metadata": {
        "id": "X6mWeWjMIuMQ",
        "colab_type": "text"
      },
      "source": [
        "According to the above analysis, medium bloggers should start writing on Better Humans since they recieve more reaction from readers on an average."
      ]
    },
    {
      "cell_type": "markdown",
      "metadata": {
        "id": "IUBX1yFaJESH",
        "colab_type": "text"
      },
      "source": [
        "TEXT ANALYSIS"
      ]
    },
    {
      "cell_type": "code",
      "metadata": {
        "id": "0IwWfDGaJGBT",
        "colab_type": "code",
        "colab": {
          "base_uri": "https://localhost:8080/",
          "height": 52
        },
        "outputId": "54152fab-ca0c-4e35-ef61-f4ba115a3790"
      },
      "source": [
        "nltk.download('stopwords')\n",
        "import unicodedata\n",
        "def remove_punct(text):\n",
        "    text  = \"\".join([char for char in text if char not in string.punctuation])\n",
        "    text = re.sub('[0-9]+', '', text)\n",
        "    return text\n",
        "\n",
        "def remove_stopwords(text):\n",
        "    filtered_text = []\n",
        "    for i in text.split():\n",
        "        i = i.strip().lower()\n",
        "        if i not in stop_words:\n",
        "            filtered_text.append(i)\n",
        "    filtered_text = ' '.join(filtered_text)    \n",
        "    return filtered_text\n",
        "\n",
        "def normalize_accented_characters(text):\n",
        "    text = unicodedata.normalize('NFKD', text).encode('ascii', 'ignore').decode('utf8')\n",
        "    return text\n",
        "\n",
        "def normalize_text(text):\n",
        "    text = remove_punct(text)\n",
        "    text = remove_stopwords(text)\n",
        "    text = normalize_accented_characters(text)\n",
        "    return text  \n",
        " "
      ],
      "execution_count": 14,
      "outputs": [
        {
          "output_type": "stream",
          "text": [
            "[nltk_data] Downloading package stopwords to /root/nltk_data...\n",
            "[nltk_data]   Package stopwords is already up-to-date!\n"
          ],
          "name": "stdout"
        }
      ]
    },
    {
      "cell_type": "code",
      "metadata": {
        "id": "u4fpWfyBLq5K",
        "colab_type": "code",
        "colab": {
          "base_uri": "https://localhost:8080/",
          "height": 729
        },
        "outputId": "b7db96a5-d34e-4d77-fe8f-877e72984771"
      },
      "source": [
        "df_data_science = df[df[\"publication\"]==\"Towards Data Science\"]\n",
        "df_data_science[\"title\"] = df_data_science[\"title\"].astype(str) + df_data_science[\"subtitle\"].astype(str)\n",
        "df_data_science.drop(columns=[\"subtitle\",\"id\",\"url\",\"image\",\"publication\"],inplace=True)\n",
        "df_data_science[\"title\"] = df_data_science[\"title\"].apply(normalize_text)\n",
        "df_data_science"
      ],
      "execution_count": 15,
      "outputs": [
        {
          "output_type": "stream",
          "text": [
            "/usr/local/lib/python3.6/dist-packages/ipykernel_launcher.py:2: SettingWithCopyWarning: \n",
            "A value is trying to be set on a copy of a slice from a DataFrame.\n",
            "Try using .loc[row_indexer,col_indexer] = value instead\n",
            "\n",
            "See the caveats in the documentation: https://pandas.pydata.org/pandas-docs/stable/user_guide/indexing.html#returning-a-view-versus-a-copy\n",
            "  \n",
            "/usr/local/lib/python3.6/dist-packages/pandas/core/frame.py:3997: SettingWithCopyWarning: \n",
            "A value is trying to be set on a copy of a slice from a DataFrame\n",
            "\n",
            "See the caveats in the documentation: https://pandas.pydata.org/pandas-docs/stable/user_guide/indexing.html#returning-a-view-versus-a-copy\n",
            "  errors=errors,\n",
            "/usr/local/lib/python3.6/dist-packages/ipykernel_launcher.py:4: SettingWithCopyWarning: \n",
            "A value is trying to be set on a copy of a slice from a DataFrame.\n",
            "Try using .loc[row_indexer,col_indexer] = value instead\n",
            "\n",
            "See the caveats in the documentation: https://pandas.pydata.org/pandas-docs/stable/user_guide/indexing.html#returning-a-view-versus-a-copy\n",
            "  after removing the cwd from sys.path.\n"
          ],
          "name": "stderr"
        },
        {
          "output_type": "execute_result",
          "data": {
            "text/html": [
              "<div>\n",
              "<style scoped>\n",
              "    .dataframe tbody tr th:only-of-type {\n",
              "        vertical-align: middle;\n",
              "    }\n",
              "\n",
              "    .dataframe tbody tr th {\n",
              "        vertical-align: top;\n",
              "    }\n",
              "\n",
              "    .dataframe thead th {\n",
              "        text-align: right;\n",
              "    }\n",
              "</style>\n",
              "<table border=\"1\" class=\"dataframe\">\n",
              "  <thead>\n",
              "    <tr style=\"text-align: right;\">\n",
              "      <th></th>\n",
              "      <th>title</th>\n",
              "      <th>claps</th>\n",
              "      <th>responses</th>\n",
              "      <th>reading_time</th>\n",
              "      <th>date</th>\n",
              "    </tr>\n",
              "  </thead>\n",
              "  <tbody>\n",
              "    <tr>\n",
              "      <th>0</th>\n",
              "      <td>beginners guide word embedding gensim wordvec ...</td>\n",
              "      <td>850</td>\n",
              "      <td>8</td>\n",
              "      <td>8</td>\n",
              "      <td>2019-05-30</td>\n",
              "    </tr>\n",
              "    <tr>\n",
              "      <th>1</th>\n",
              "      <td>handson graph neural networks pytorch pytorch ...</td>\n",
              "      <td>1100</td>\n",
              "      <td>11</td>\n",
              "      <td>9</td>\n",
              "      <td>2019-05-30</td>\n",
              "    </tr>\n",
              "    <tr>\n",
              "      <th>2</th>\n",
              "      <td>use ggplot pythona grammar graphics python</td>\n",
              "      <td>767</td>\n",
              "      <td>1</td>\n",
              "      <td>5</td>\n",
              "      <td>2019-05-30</td>\n",
              "    </tr>\n",
              "    <tr>\n",
              "      <th>3</th>\n",
              "      <td>databricks save files csv local computerwhen w...</td>\n",
              "      <td>354</td>\n",
              "      <td>0</td>\n",
              "      <td>4</td>\n",
              "      <td>2019-05-30</td>\n",
              "    </tr>\n",
              "    <tr>\n",
              "      <th>4</th>\n",
              "      <td>stepbystep implementation gradient descent bac...</td>\n",
              "      <td>211</td>\n",
              "      <td>3</td>\n",
              "      <td>4</td>\n",
              "      <td>2019-05-30</td>\n",
              "    </tr>\n",
              "    <tr>\n",
              "      <th>...</th>\n",
              "      <td>...</td>\n",
              "      <td>...</td>\n",
              "      <td>...</td>\n",
              "      <td>...</td>\n",
              "      <td>...</td>\n",
              "    </tr>\n",
              "    <tr>\n",
              "      <th>6375</th>\n",
              "      <td>brain mysterynan</td>\n",
              "      <td>118</td>\n",
              "      <td>0</td>\n",
              "      <td>7</td>\n",
              "      <td>2019-12-05</td>\n",
              "    </tr>\n",
              "    <tr>\n",
              "      <th>6376</th>\n",
              "      <td>machine learning lincoln ahead timenan</td>\n",
              "      <td>236</td>\n",
              "      <td>1</td>\n",
              "      <td>3</td>\n",
              "      <td>2019-12-05</td>\n",
              "    </tr>\n",
              "    <tr>\n",
              "      <th>6377</th>\n",
              "      <td>ai us  opera experiencenan</td>\n",
              "      <td>1</td>\n",
              "      <td>0</td>\n",
              "      <td>4</td>\n",
              "      <td>2019-12-05</td>\n",
              "    </tr>\n",
              "    <tr>\n",
              "      <th>6378</th>\n",
              "      <td>digital skills service dsaashave ever think fu...</td>\n",
              "      <td>0</td>\n",
              "      <td>0</td>\n",
              "      <td>6</td>\n",
              "      <td>2019-12-05</td>\n",
              "    </tr>\n",
              "    <tr>\n",
              "      <th>6379</th>\n",
              "      <td>primer importance mindful careful data collect...</td>\n",
              "      <td>129</td>\n",
              "      <td>0</td>\n",
              "      <td>7</td>\n",
              "      <td>2019-12-05</td>\n",
              "    </tr>\n",
              "  </tbody>\n",
              "</table>\n",
              "<p>1461 rows × 5 columns</p>\n",
              "</div>"
            ],
            "text/plain": [
              "                                                  title  ...        date\n",
              "0     beginners guide word embedding gensim wordvec ...  ...  2019-05-30\n",
              "1     handson graph neural networks pytorch pytorch ...  ...  2019-05-30\n",
              "2            use ggplot pythona grammar graphics python  ...  2019-05-30\n",
              "3     databricks save files csv local computerwhen w...  ...  2019-05-30\n",
              "4     stepbystep implementation gradient descent bac...  ...  2019-05-30\n",
              "...                                                 ...  ...         ...\n",
              "6375                                   brain mysterynan  ...  2019-12-05\n",
              "6376             machine learning lincoln ahead timenan  ...  2019-12-05\n",
              "6377                         ai us  opera experiencenan  ...  2019-12-05\n",
              "6378  digital skills service dsaashave ever think fu...  ...  2019-12-05\n",
              "6379  primer importance mindful careful data collect...  ...  2019-12-05\n",
              "\n",
              "[1461 rows x 5 columns]"
            ]
          },
          "metadata": {
            "tags": []
          },
          "execution_count": 15
        }
      ]
    },
    {
      "cell_type": "markdown",
      "metadata": {
        "id": "SNC2egYWLz-1",
        "colab_type": "text"
      },
      "source": [
        "TOPIC MODELING"
      ]
    },
    {
      "cell_type": "code",
      "metadata": {
        "id": "woL46cGPL14A",
        "colab_type": "code",
        "colab": {
          "base_uri": "https://localhost:8080/",
          "height": 52
        },
        "outputId": "421e4ba1-488c-4b92-e4b0-e4f6a1ce4162"
      },
      "source": [
        "import sklearn\n",
        "from sklearn.feature_extraction.text import CountVectorizer\n",
        "count_vect = CountVectorizer(max_df=0.6,min_df=2)\n",
        "doc_term_matrix = count_vect.fit_transform(df_data_science[\"title\"].values)\n",
        "doc_term_matrix"
      ],
      "execution_count": 16,
      "outputs": [
        {
          "output_type": "execute_result",
          "data": {
            "text/plain": [
              "<1461x1366 sparse matrix of type '<class 'numpy.int64'>'\n",
              "\twith 7994 stored elements in Compressed Sparse Row format>"
            ]
          },
          "metadata": {
            "tags": []
          },
          "execution_count": 16
        }
      ]
    },
    {
      "cell_type": "markdown",
      "metadata": {
        "id": "8pQaQfYRMKPM",
        "colab_type": "text"
      },
      "source": [
        "LDA "
      ]
    },
    {
      "cell_type": "code",
      "metadata": {
        "id": "bR_zFkOMMGDr",
        "colab_type": "code",
        "colab": {
          "base_uri": "https://localhost:8080/",
          "height": 213
        },
        "outputId": "caf5e48d-45af-4a53-ab1c-ee16fae177f6"
      },
      "source": [
        "from sklearn.decomposition import LatentDirichletAllocation\n",
        "#required to specify number of topics in LDA\n",
        "number_topics = 3\n",
        "number_words = 20\n",
        "LDA = LatentDirichletAllocation(n_components=number_topics, n_jobs=-1)\n",
        "LDA.fit(doc_term_matrix)\n",
        "def print_topics(model, count_vectorizer, n_top_words):\n",
        "    words = count_vectorizer.get_feature_names()\n",
        "    for topic_idx, topic in enumerate(model.components_):\n",
        "        print(\"\\nTopic #%d:\" % topic_idx)\n",
        "        print(\" \".join([words[i]\n",
        "                        for i in topic.argsort()[:-n_top_words - 1:-1]]))\n",
        "print(\"Topics:\")\n",
        "print_topics(LDA, count_vect, number_words)     "
      ],
      "execution_count": 18,
      "outputs": [
        {
          "output_type": "stream",
          "text": [
            "Topics:\n",
            "\n",
            "Topic #0:\n",
            "data science classmarkupstrong ai strong artificial intelligence language need know python world new introduction top computer way make and scientist\n",
            "\n",
            "Topic #1:\n",
            "using python data analysis neural use guide nan introduction part simple text networks decision google model classmarkupstrong pythonnan web used\n",
            "\n",
            "Topic #2:\n",
            "learning machine deep neural using ai network model regression part detection ml series time tensorflow models reinforcement linear the networks\n"
          ],
          "name": "stdout"
        }
      ]
    },
    {
      "cell_type": "code",
      "metadata": {
        "id": "ZhAjfJq_M_Zg",
        "colab_type": "code",
        "colab": {
          "base_uri": "https://localhost:8080/",
          "height": 652
        },
        "outputId": "f2166f5b-edd2-4c19-d1a9-ac85ba764680"
      },
      "source": [
        "!pip install pyLDAvis #visualizing LDA"
      ],
      "execution_count": 19,
      "outputs": [
        {
          "output_type": "stream",
          "text": [
            "Collecting pyLDAvis\n",
            "\u001b[?25l  Downloading https://files.pythonhosted.org/packages/a5/3a/af82e070a8a96e13217c8f362f9a73e82d61ac8fff3a2561946a97f96266/pyLDAvis-2.1.2.tar.gz (1.6MB)\n",
            "\u001b[K     |████████████████████████████████| 1.6MB 4.5MB/s \n",
            "\u001b[?25hRequirement already satisfied: wheel>=0.23.0 in /usr/local/lib/python3.6/dist-packages (from pyLDAvis) (0.34.2)\n",
            "Requirement already satisfied: numpy>=1.9.2 in /usr/local/lib/python3.6/dist-packages (from pyLDAvis) (1.18.5)\n",
            "Requirement already satisfied: scipy>=0.18.0 in /usr/local/lib/python3.6/dist-packages (from pyLDAvis) (1.4.1)\n",
            "Requirement already satisfied: pandas>=0.17.0 in /usr/local/lib/python3.6/dist-packages (from pyLDAvis) (1.0.5)\n",
            "Requirement already satisfied: joblib>=0.8.4 in /usr/local/lib/python3.6/dist-packages (from pyLDAvis) (0.16.0)\n",
            "Requirement already satisfied: jinja2>=2.7.2 in /usr/local/lib/python3.6/dist-packages (from pyLDAvis) (2.11.2)\n",
            "Requirement already satisfied: numexpr in /usr/local/lib/python3.6/dist-packages (from pyLDAvis) (2.7.1)\n",
            "Requirement already satisfied: pytest in /usr/local/lib/python3.6/dist-packages (from pyLDAvis) (3.6.4)\n",
            "Requirement already satisfied: future in /usr/local/lib/python3.6/dist-packages (from pyLDAvis) (0.16.0)\n",
            "Collecting funcy\n",
            "\u001b[?25l  Downloading https://files.pythonhosted.org/packages/ce/4b/6ffa76544e46614123de31574ad95758c421aae391a1764921b8a81e1eae/funcy-1.14.tar.gz (548kB)\n",
            "\u001b[K     |████████████████████████████████| 552kB 31.1MB/s \n",
            "\u001b[?25hRequirement already satisfied: python-dateutil>=2.6.1 in /usr/local/lib/python3.6/dist-packages (from pandas>=0.17.0->pyLDAvis) (2.8.1)\n",
            "Requirement already satisfied: pytz>=2017.2 in /usr/local/lib/python3.6/dist-packages (from pandas>=0.17.0->pyLDAvis) (2018.9)\n",
            "Requirement already satisfied: MarkupSafe>=0.23 in /usr/local/lib/python3.6/dist-packages (from jinja2>=2.7.2->pyLDAvis) (1.1.1)\n",
            "Requirement already satisfied: six>=1.10.0 in /usr/local/lib/python3.6/dist-packages (from pytest->pyLDAvis) (1.12.0)\n",
            "Requirement already satisfied: atomicwrites>=1.0 in /usr/local/lib/python3.6/dist-packages (from pytest->pyLDAvis) (1.4.0)\n",
            "Requirement already satisfied: attrs>=17.4.0 in /usr/local/lib/python3.6/dist-packages (from pytest->pyLDAvis) (19.3.0)\n",
            "Requirement already satisfied: py>=1.5.0 in /usr/local/lib/python3.6/dist-packages (from pytest->pyLDAvis) (1.9.0)\n",
            "Requirement already satisfied: pluggy<0.8,>=0.5 in /usr/local/lib/python3.6/dist-packages (from pytest->pyLDAvis) (0.7.1)\n",
            "Requirement already satisfied: more-itertools>=4.0.0 in /usr/local/lib/python3.6/dist-packages (from pytest->pyLDAvis) (8.4.0)\n",
            "Requirement already satisfied: setuptools in /usr/local/lib/python3.6/dist-packages (from pytest->pyLDAvis) (49.1.0)\n",
            "Building wheels for collected packages: pyLDAvis, funcy\n",
            "  Building wheel for pyLDAvis (setup.py) ... \u001b[?25l\u001b[?25hdone\n",
            "  Created wheel for pyLDAvis: filename=pyLDAvis-2.1.2-py2.py3-none-any.whl size=97711 sha256=3759a90faabb871fd46700b3c81024bd3bb1b64a443a26e64499dee44127dcc4\n",
            "  Stored in directory: /root/.cache/pip/wheels/98/71/24/513a99e58bb6b8465bae4d2d5e9dba8f0bef8179e3051ac414\n",
            "  Building wheel for funcy (setup.py) ... \u001b[?25l\u001b[?25hdone\n",
            "  Created wheel for funcy: filename=funcy-1.14-py2.py3-none-any.whl size=32042 sha256=cad44535ab1e7c83fb67753fbf8943a80490c9a40a45f5b672118309a1394365\n",
            "  Stored in directory: /root/.cache/pip/wheels/20/5a/d8/1d875df03deae6f178dfdf70238cca33f948ef8a6f5209f2eb\n",
            "Successfully built pyLDAvis funcy\n",
            "Installing collected packages: funcy, pyLDAvis\n",
            "Successfully installed funcy-1.14 pyLDAvis-2.1.2\n"
          ],
          "name": "stdout"
        }
      ]
    },
    {
      "cell_type": "code",
      "metadata": {
        "id": "tTPoiBohNNZM",
        "colab_type": "code",
        "colab": {
          "base_uri": "https://localhost:8080/",
          "height": 880
        },
        "outputId": "4e289855-94c4-44ec-c40b-7970fc313c85"
      },
      "source": [
        "import pyLDAvis\n",
        "import pyLDAvis.sklearn\n",
        "from pyLDAvis import sklearn as sklearn_lda\n",
        "#prepare to display result in the Jupyter notebook\n",
        "pyLDAvis.enable_notebook()\n",
        "LDAvis = sklearn_lda.prepare(LDA, doc_term_matrix, count_vect)\n",
        "#run the visualization [mds is a function to use for visualizing the \"distance\" between topics]\n",
        "LDAvis"
      ],
      "execution_count": 20,
      "outputs": [
        {
          "output_type": "execute_result",
          "data": {
            "text/html": [
              "\n",
              "<link rel=\"stylesheet\" type=\"text/css\" href=\"https://cdn.rawgit.com/bmabey/pyLDAvis/files/ldavis.v1.0.0.css\">\n",
              "\n",
              "\n",
              "<div id=\"ldavis_el1251402086959564888679250013\"></div>\n",
              "<script type=\"text/javascript\">\n",
              "\n",
              "var ldavis_el1251402086959564888679250013_data = {\"mdsDat\": {\"x\": [0.16712122990419165, -0.17739253305941746, 0.010271303155225796], \"y\": [-0.08809136035200789, -0.07362699013903597, 0.16171835049104388], \"topics\": [1, 2, 3], \"cluster\": [1, 1, 1], \"Freq\": [35.640392122595955, 32.8510650328816, 31.50854284452246]}, \"tinfo\": {\"Term\": [\"learning\", \"data\", \"machine\", \"science\", \"deep\", \"using\", \"python\", \"classmarkupstrong\", \"neural\", \"network\", \"artificial\", \"ai\", \"intelligence\", \"strong\", \"language\", \"nan\", \"detection\", \"need\", \"regression\", \"know\", \"ml\", \"time\", \"use\", \"world\", \"reinforcement\", \"text\", \"series\", \"guide\", \"linear\", \"decision\", \"learning\", \"deep\", \"network\", \"detection\", \"time\", \"ml\", \"reinforcement\", \"pytorch\", \"machine\", \"object\", \"recognition\", \"keras\", \"regression\", \"linear\", \"segmentation\", \"learned\", \"lessons\", \"bot\", \"framework\", \"two\", \"forecasting\", \"logistic\", \"lstm\", \"state\", \"research\", \"write\", \"basics\", \"series\", \"year\", \"explanation\", \"tensorflow\", \"cnn\", \"models\", \"neural\", \"model\", \"training\", \"learn\", \"learningnan\", \"ai\", \"the\", \"build\", \"part\", \"image\", \"using\", \"networks\", \"guide\", \"best\", \"use\", \"building\", \"science\", \"artificial\", \"intelligence\", \"language\", \"need\", \"know\", \"world\", \"top\", \"computer\", \"way\", \"processing\", \"scientist\", \"natural\", \"vision\", \"tools\", \"work\", \"good\", \"its\", \"skills\", \"could\", \"cloud\", \"every\", \"job\", \"airbnb\", \"generative\", \"story\", \"ainan\", \"adversarial\", \"software\", \"digital\", \"data\", \"tips\", \"classmarkupstrong\", \"brief\", \"strong\", \"human\", \"ai\", \"future\", \"patterns\", \"new\", \"make\", \"create\", \"predicting\", \"and\", \"classmarkupem\", \"python\", \"introduction\", \"first\", \"analysis\", \"decision\", \"pythonnan\", \"web\", \"code\", \"scraping\", \"nan\", \"implementation\", \"images\", \"creating\", \"graph\", \"used\", \"dimensionality\", \"without\", \"step\", \"types\", \"different\", \"intuition\", \"random\", \"design\", \"gentle\", \"churn\", \"recommendation\", \"numpy\", \"tool\", \"interactive\", \"components\", \"analyze\", \"text\", \"principal\", \"selection\", \"modern\", \"python\", \"using\", \"analysis\", \"use\", \"google\", \"guide\", \"simple\", \"introduction\", \"neural\", \"networks\", \"part\", \"data\", \"article\", \"understanding\", \"classification\", \"one\", \"model\", \"classmarkupstrong\", \"building\", \"strong\"], \"Freq\": [195.0, 306.0, 148.0, 88.0, 83.0, 124.0, 86.0, 58.0, 79.0, 32.0, 27.0, 74.0, 25.0, 46.0, 24.0, 25.0, 25.0, 22.0, 27.0, 21.0, 23.0, 22.0, 41.0, 18.0, 19.0, 20.0, 24.0, 42.0, 19.0, 15.0, 195.02471969411357, 82.49408317486703, 32.275432537673616, 25.36659972971952, 21.906930655170815, 22.74831296429848, 19.322976593442153, 14.996162339496825, 143.1955366072377, 13.2707963462163, 11.500606226401878, 10.660272129548487, 26.198168341312353, 18.764044623044796, 9.790111410762965, 9.687001410864518, 8.063639503323671, 8.018567156033235, 8.007413100251773, 7.200811871981852, 7.1950901109680245, 7.1922991454599146, 7.190740549628246, 6.343948589229159, 6.333259584605894, 6.324810023183426, 8.690372484850961, 22.023431637742373, 8.596889620339669, 7.030790549828745, 21.606891652369576, 9.004676103228958, 19.727346682884253, 49.98579329699895, 30.430387462038127, 10.113611046572196, 14.649911217511372, 13.617745851300057, 34.944766501065615, 17.880836719301666, 17.26514983257623, 26.167089759138552, 13.5083636373044, 41.39312974450036, 17.357606945033112, 17.053994497984775, 12.253149070140626, 13.499264067878961, 11.733112125085714, 88.26090552283463, 26.976221861761157, 24.41218313333411, 23.56706089159801, 21.813501092152023, 20.965407055168455, 18.354349584782973, 14.069237736387223, 14.055784631075277, 13.17520514622048, 11.494831649596035, 12.254055667975688, 9.774807631165652, 12.192272223251825, 8.01956741532086, 8.00841522717854, 7.1503788716918475, 7.141261098649788, 6.321024127420809, 6.3163335238523475, 7.102141404711433, 6.308106125456975, 6.307352352249002, 6.299970322510333, 6.278185254955178, 6.262314844074416, 5.461261533844243, 6.239794294934342, 5.459384132418847, 5.456915933219773, 253.6239925359578, 9.933025352815832, 45.13062800586988, 10.390968992377626, 34.69367311723813, 11.176232703795716, 38.69150656484932, 11.46256290768428, 6.809685582872935, 15.811178029060034, 12.962630682933007, 11.670917419468196, 11.061060693510898, 12.95378073830197, 11.557577858862208, 19.641397144959427, 14.809239774544166, 10.643557205159794, 10.404307369646558, 14.774794901919652, 13.068306376416444, 12.225896318591115, 11.343626229999686, 9.669002031428318, 24.161289160064594, 10.46737108940076, 9.656654983047556, 9.630127814409724, 10.428138929105414, 12.017721456620409, 8.806441695891172, 10.397723684837196, 8.79781166830902, 8.790438629591511, 9.582467870157297, 8.775946079635164, 8.734882852347086, 7.915590851117949, 7.910521891809846, 7.110933770343604, 7.0955799406106, 7.092873563031668, 7.091146004364883, 7.082410772083581, 7.069181889066284, 7.057612749530274, 18.776163242656526, 6.255092350515638, 6.252682066076062, 8.469905085583202, 66.46758334443544, 82.62934675560307, 34.92161513178502, 27.298467959040348, 14.70065667295497, 25.237159010420783, 19.666458228891102, 23.568719046383094, 28.936171435817485, 17.55509242103091, 20.14854763703302, 47.465883003822135, 10.49158267907092, 11.793468651639575, 11.615798090500375, 10.288472726763693, 13.699938546978416, 13.098850231569738, 10.687399542730017, 11.472645453236911], \"Total\": [195.0, 306.0, 148.0, 88.0, 83.0, 124.0, 86.0, 58.0, 79.0, 32.0, 27.0, 74.0, 25.0, 46.0, 24.0, 25.0, 25.0, 22.0, 27.0, 21.0, 23.0, 22.0, 41.0, 18.0, 19.0, 20.0, 24.0, 42.0, 19.0, 15.0, 195.62611605422313, 83.0947613183846, 32.88839363562031, 25.963667579398646, 22.50106538594783, 23.366540388709176, 19.9043268535251, 15.576222784841216, 148.86674438237537, 13.845026696770697, 12.113269402983784, 11.247967640218551, 27.682129913642576, 19.89642326983596, 10.382325555068187, 10.3821190626205, 8.651231326313251, 8.650729880201098, 8.65034883178595, 7.785618121908042, 7.785561251602378, 7.785387227254802, 7.785392869378982, 6.920019633252232, 6.919909662012912, 6.919846926793413, 9.515298801731085, 24.20975239547344, 9.51287205906363, 7.785092516956566, 25.056956985479086, 10.371245630769401, 25.94618766324142, 79.22191953496278, 49.12892273090069, 12.109303665320692, 19.89000669753316, 18.16084656783452, 74.31496685059403, 28.45951025127015, 27.555880628294645, 53.35834863779193, 19.8222366133111, 124.33059157717395, 35.23805798089151, 42.91767161030126, 23.293038758625652, 41.15770304519798, 24.079244642397484, 88.88360495599248, 27.612229613022055, 25.023831864869546, 24.160769824773368, 22.43492805573023, 21.571963089727515, 18.982977004697776, 14.668164414199781, 14.667932863551288, 13.80512281425887, 12.07917569639312, 12.940977352256846, 10.353284241267854, 12.942729753819265, 8.62727060666539, 8.627160953095295, 7.764026280239974, 7.764564616990566, 6.90137270574884, 6.901477723154189, 7.7634411839340105, 6.901260550414815, 6.9015059965514824, 6.90124330138722, 6.901334396666444, 6.9013673459788984, 6.038448887610969, 6.901349925289782, 6.038455711331864, 6.03850230559285, 306.7018834326311, 11.208755260086374, 58.535920893171465, 12.082468136109869, 46.472590102885235, 13.81143578234863, 74.31496685059403, 17.272997682540144, 7.76039049060862, 34.46322291651585, 25.905968793704616, 21.468672910189177, 19.78386052414495, 29.270320346122784, 23.260968073179285, 86.41520030566437, 46.36043878060911, 25.000725100811607, 55.73318024441843, 15.368639120876153, 13.661834528476213, 12.808287359875107, 11.955247685795948, 10.248052554391998, 25.618968960152127, 11.10212260833107, 10.248232265884454, 10.24861200742177, 11.102666170879246, 12.811199586604575, 9.394777923780843, 11.102896159373936, 9.394908991942835, 9.394956507158389, 10.249279487468948, 9.395205687885142, 9.395798817538603, 8.541790582253276, 8.541965627807725, 7.687838526174744, 7.688050272193578, 7.688093938512832, 7.688118638887261, 7.688186489242315, 7.688317801600542, 7.688438268134952, 20.501539667070286, 6.834477616164795, 6.834506460217229, 9.398680671053969, 86.41520030566437, 124.33059157717395, 55.73318024441843, 41.15770304519798, 20.547295596811573, 42.91767161030126, 32.59559676733785, 46.36043878060911, 79.22191953496278, 35.23805798089151, 53.35834863779193, 306.7018834326311, 14.564329048674649, 20.60510318239027, 23.204503888339623, 16.29848785015188, 49.12892273090069, 58.535920893171465, 24.079244642397484, 46.472590102885235], \"Category\": [\"Default\", \"Default\", \"Default\", \"Default\", \"Default\", \"Default\", \"Default\", \"Default\", \"Default\", \"Default\", \"Default\", \"Default\", \"Default\", \"Default\", \"Default\", \"Default\", \"Default\", \"Default\", \"Default\", \"Default\", \"Default\", \"Default\", \"Default\", \"Default\", \"Default\", \"Default\", \"Default\", \"Default\", \"Default\", \"Default\", \"Topic1\", \"Topic1\", \"Topic1\", \"Topic1\", \"Topic1\", \"Topic1\", \"Topic1\", \"Topic1\", \"Topic1\", \"Topic1\", \"Topic1\", \"Topic1\", \"Topic1\", \"Topic1\", \"Topic1\", \"Topic1\", \"Topic1\", \"Topic1\", \"Topic1\", \"Topic1\", \"Topic1\", \"Topic1\", \"Topic1\", \"Topic1\", \"Topic1\", \"Topic1\", \"Topic1\", \"Topic1\", \"Topic1\", \"Topic1\", \"Topic1\", \"Topic1\", \"Topic1\", \"Topic1\", \"Topic1\", \"Topic1\", \"Topic1\", \"Topic1\", \"Topic1\", \"Topic1\", \"Topic1\", \"Topic1\", \"Topic1\", \"Topic1\", \"Topic1\", \"Topic1\", \"Topic1\", \"Topic1\", \"Topic1\", \"Topic2\", \"Topic2\", \"Topic2\", \"Topic2\", \"Topic2\", \"Topic2\", \"Topic2\", \"Topic2\", \"Topic2\", \"Topic2\", \"Topic2\", \"Topic2\", \"Topic2\", \"Topic2\", \"Topic2\", \"Topic2\", \"Topic2\", \"Topic2\", \"Topic2\", \"Topic2\", \"Topic2\", \"Topic2\", \"Topic2\", \"Topic2\", \"Topic2\", \"Topic2\", \"Topic2\", \"Topic2\", \"Topic2\", \"Topic2\", \"Topic2\", \"Topic2\", \"Topic2\", \"Topic2\", \"Topic2\", \"Topic2\", \"Topic2\", \"Topic2\", \"Topic2\", \"Topic2\", \"Topic2\", \"Topic2\", \"Topic2\", \"Topic2\", \"Topic2\", \"Topic2\", \"Topic2\", \"Topic2\", \"Topic2\", \"Topic3\", \"Topic3\", \"Topic3\", \"Topic3\", \"Topic3\", \"Topic3\", \"Topic3\", \"Topic3\", \"Topic3\", \"Topic3\", \"Topic3\", \"Topic3\", \"Topic3\", \"Topic3\", \"Topic3\", \"Topic3\", \"Topic3\", \"Topic3\", \"Topic3\", \"Topic3\", \"Topic3\", \"Topic3\", \"Topic3\", \"Topic3\", \"Topic3\", \"Topic3\", \"Topic3\", \"Topic3\", \"Topic3\", \"Topic3\", \"Topic3\", \"Topic3\", \"Topic3\", \"Topic3\", \"Topic3\", \"Topic3\", \"Topic3\", \"Topic3\", \"Topic3\", \"Topic3\", \"Topic3\", \"Topic3\", \"Topic3\", \"Topic3\", \"Topic3\", \"Topic3\", \"Topic3\", \"Topic3\", \"Topic3\", \"Topic3\", \"Topic3\"], \"logprob\": [30.0, 29.0, 28.0, 27.0, 26.0, 25.0, 24.0, 23.0, 22.0, 21.0, 20.0, 19.0, 18.0, 17.0, 16.0, 15.0, 14.0, 13.0, 12.0, 11.0, 10.0, 9.0, 8.0, 7.0, 6.0, 5.0, 4.0, 3.0, 2.0, 1.0, -2.7373, -3.5977, -4.5362, -4.777, -4.9237, -4.886, -5.0492, -5.3027, -3.0463, -5.4249, -5.5681, -5.6439, -4.7448, -5.0785, -5.7291, -5.7397, -5.9231, -5.9287, -5.9301, -6.0363, -6.0371, -6.0375, -6.0377, -6.163, -6.1647, -6.166, -5.8483, -4.9184, -5.8591, -6.0602, -4.9375, -5.8127, -5.0285, -4.0987, -4.595, -5.6966, -5.326, -5.3991, -4.4567, -5.1267, -5.1618, -4.746, -5.4072, -4.2874, -5.1564, -5.1741, -5.5047, -5.4078, -5.5481, -3.4487, -4.634, -4.7339, -4.7691, -4.8464, -4.8861, -5.0191, -5.285, -5.2859, -5.3506, -5.4871, -5.4231, -5.6492, -5.4282, -5.8471, -5.8485, -5.9618, -5.9631, -6.0851, -6.0858, -5.9686, -6.0871, -6.0873, -6.0884, -6.0919, -6.0944, -6.2313, -6.098, -6.2316, -6.2321, -2.3931, -5.6331, -4.1194, -5.588, -4.3824, -5.5152, -4.2734, -5.4899, -6.0106, -5.1683, -5.3669, -5.4719, -5.5255, -5.3676, -5.4816, -4.9513, -5.2337, -5.564, -5.5868, -5.1943, -5.3171, -5.3837, -5.4586, -5.6183, -4.7025, -5.539, -5.6196, -5.6224, -5.5427, -5.4009, -5.7118, -5.5457, -5.7127, -5.7136, -5.6273, -5.7152, -5.7199, -5.8184, -5.8191, -5.9256, -5.9278, -5.9282, -5.9284, -5.9296, -5.9315, -5.9331, -4.9547, -6.0539, -6.0542, -5.7507, -3.6905, -3.4729, -4.3341, -4.5804, -5.1994, -4.6589, -4.9083, -4.7273, -4.5222, -5.0219, -4.8841, -4.0272, -5.5367, -5.4197, -5.4349, -5.5562, -5.2699, -5.3147, -5.5182, -5.4473], \"loglift\": [30.0, 29.0, 28.0, 27.0, 26.0, 25.0, 24.0, 23.0, 22.0, 21.0, 20.0, 19.0, 18.0, 17.0, 16.0, 15.0, 14.0, 13.0, 12.0, 11.0, 10.0, 9.0, 8.0, 7.0, 6.0, 5.0, 4.0, 3.0, 2.0, 1.0, 1.0286, 1.0244, 1.0129, 1.0084, 1.0049, 1.0049, 1.002, 0.9937, 0.9929, 0.9893, 0.9798, 0.978, 0.9766, 0.9731, 0.973, 0.9624, 0.9614, 0.9558, 0.9545, 0.9536, 0.9528, 0.9525, 0.9522, 0.9448, 0.9431, 0.9418, 0.941, 0.937, 0.9304, 0.9298, 0.8836, 0.8904, 0.7577, 0.5712, 0.5527, 0.8516, 0.7259, 0.7438, 0.2771, 0.5669, 0.5642, 0.3192, 0.6482, -0.0681, 0.3236, 0.1088, 0.3893, -0.0831, 0.3128, 1.1062, 1.0899, 1.0884, 1.0883, 1.0851, 1.0847, 1.0795, 1.0715, 1.0706, 1.0665, 1.0636, 1.0586, 1.0557, 1.0535, 1.0401, 1.0388, 1.0309, 1.0295, 1.0253, 1.0246, 1.0242, 1.0233, 1.0232, 1.022, 1.0186, 1.016, 1.0127, 1.0124, 1.0124, 1.0119, 0.9232, 0.9924, 0.8531, 0.9624, 0.8209, 0.9015, 0.4605, 0.7031, 0.9825, 0.334, 0.4208, 0.5037, 0.5318, 0.298, 0.4138, -0.3683, -0.028, 0.2592, -0.5652, 1.1155, 1.1105, 1.1084, 1.1024, 1.0967, 1.0963, 1.096, 1.0955, 1.0927, 1.0922, 1.091, 1.0902, 1.0893, 1.0892, 1.0884, 1.0876, 1.0867, 1.082, 1.0788, 1.0781, 1.0769, 1.0747, 1.0743, 1.0741, 1.0728, 1.071, 1.0693, 1.067, 1.0663, 1.0659, 1.0509, 0.8925, 0.7463, 0.6874, 0.7443, 0.8201, 0.6239, 0.6496, 0.4784, 0.1478, 0.4581, 0.181, -0.711, 0.8269, 0.5969, 0.4629, 0.6949, -0.1221, -0.3422, 0.3426, -0.244]}, \"token.table\": {\"Topic\": [2, 1, 2, 3, 2, 2, 1, 2, 3, 3, 1, 2, 3, 1, 3, 2, 1, 1, 2, 3, 1, 1, 2, 1, 3, 1, 2, 3, 3, 1, 3, 1, 2, 3, 2, 3, 2, 1, 3, 3, 3, 2, 2, 2, 3, 3, 1, 2, 3, 3, 1, 3, 1, 3, 2, 3, 2, 1, 1, 2, 3, 1, 1, 1, 2, 2, 3, 2, 2, 3, 3, 1, 2, 3, 1, 2, 1, 3, 3, 3, 2, 3, 1, 2, 3, 3, 2, 2, 1, 2, 2, 1, 2, 1, 1, 1, 2, 1, 1, 3, 1, 1, 1, 2, 1, 2, 3, 1, 1, 2, 3, 1, 2, 2, 3, 2, 3, 2, 2, 1, 1, 3, 1, 3, 1, 2, 3, 3, 1, 1, 3, 1, 2, 3, 2, 3, 1, 2, 3, 3, 2, 2, 3, 3, 1, 3, 1, 3, 1, 3, 1, 1, 2, 2, 3, 1, 3, 1, 3, 1, 2, 3, 2, 2, 1, 3, 2, 2, 3, 1, 3, 2, 3, 1, 2, 3, 1, 2, 3, 3, 2, 2, 1, 2, 1, 3, 1, 3, 1, 3, 3, 1, 3, 2, 2, 3, 3, 2, 2, 1, 1, 3], \"Freq\": [0.8693951277580038, 0.47096838609059044, 0.5247933445009436, 0.013456239602588299, 0.8280272124615403, 0.8694085598741228, 0.1794263301707331, 0.1794263301707331, 0.6279921555975658, 0.9104579832567281, 0.2733143985238173, 0.4441358976012031, 0.2733143985238173, 0.2746436163747618, 0.6866090409369046, 0.977827592280584, 0.9458452317191197, 0.5151753759717708, 0.3005189693168663, 0.17172512532392362, 0.9247774593343364, 0.08276454684050712, 0.8276454684050712, 0.6169282059722757, 0.36289894468957395, 0.4983545031504445, 0.0830590838584074, 0.4568249612212408, 0.9105290097037205, 0.474045903025212, 0.5171409851184131, 0.25794283286593783, 0.5158856657318757, 0.21495236072161486, 0.7687587264942046, 0.222085854320548, 0.9016620122641095, 0.8677839018004557, 0.09642043353338398, 0.92009804306013, 0.9104722490195125, 0.9544630542173362, 0.8693790287651344, 0.5589539721528255, 0.4192154791146191, 0.9757418851214456, 0.019562970832938936, 0.8281657652610817, 0.15324327152468833, 0.9760135482408844, 0.9868251463628384, 0.9365717788283269, 0.9628839963979786, 0.9756783403385844, 0.8280198875421492, 0.9579790041889603, 0.8694063868722298, 0.8991543754622606, 0.35998955885114825, 0.4399872385958479, 0.19999419936174903, 0.8991002413036441, 0.9248181958401233, 0.3473629829792027, 0.6368321354618717, 0.8693970839752648, 0.9365525862052878, 0.9015940630978443, 0.2920092316640955, 0.7300230791602388, 0.9006845604552728, 0.3961072295431702, 0.023300425267245305, 0.5825106316811326, 0.14480753713933575, 0.7964414542663466, 0.7062775141428121, 0.30269036320406234, 0.9757780405982016, 0.9007286581843337, 0.9590857279413356, 0.9104877996644255, 0.17256092069918263, 0.32355172631096746, 0.5176827620975479, 0.9579353873652018, 0.9015315533188388, 0.8693754671803599, 0.9779544493591971, 0.9734858117757543, 0.9933458318613456, 0.7541475590282412, 0.2513825196760804, 0.9631945019782838, 0.9967994250110779, 0.7708891734593486, 0.2202540495598139, 0.9247238570153025, 0.954945506653199, 0.05026028982385258, 0.899120338612658, 0.8991196870143779, 0.9605906315294557, 0.03358708501851244, 0.42461257046959383, 0.50181485600952, 0.07720228553992615, 0.9843134506601461, 0.6106382621968395, 0.10177304369947324, 0.28496452235852504, 0.7708261521724239, 0.23124784565172718, 0.10639791211119634, 0.8511832968895707, 0.03903357709498009, 0.9368058502795222, 0.9658770846974649, 0.9806137976172764, 0.9729876245868657, 0.48243294250831203, 0.5108113508911539, 0.6311384562947082, 0.3660603046509308, 0.3191808272443509, 0.4642630214463285, 0.23213151072316426, 0.9104987602888297, 0.9389653255802102, 0.36813231111768985, 0.6135538518628164, 0.48727145168029196, 0.1311884677600786, 0.37482419360022456, 0.9020164653403949, 0.12885949504862784, 0.10109250404182372, 0.5560087722300304, 0.30327751212547116, 0.8779017705477442, 0.9106581671201814, 0.23144076423194998, 0.7637545219654349, 0.9515559548685274, 0.963006256856958, 0.9578749156697791, 0.9906491468805372, 0.9105039317078683, 0.9392340864344556, 0.036124387939786756, 0.954566318158861, 0.8670633423059281, 0.9900588533011238, 0.927286994896661, 0.9757951519983481, 0.9631753451536151, 0.8778980654894714, 0.9087247007166168, 0.08261133642878335, 0.24543192312454712, 0.15339495195284195, 0.6135798078113678, 0.8693922580071647, 0.8280262767543228, 0.8670495631498886, 0.9579656394456282, 0.8693929331983635, 0.7531321134138171, 0.2366986642157711, 0.8779996714185748, 0.11972722792071475, 0.04877682438681456, 0.9267596633494767, 0.6324775036912892, 0.14055055637584205, 0.24596347365772359, 0.9777314817163836, 0.8921597240693915, 0.08921597240693915, 0.9104958350399682, 0.927292114126945, 0.954447987128304, 0.8258113163549251, 0.16516226327098502, 0.8990936737961265, 0.9579607945116664, 0.436785000314469, 0.5823800004192919, 0.3158582485938014, 0.6560132855409722, 0.936680434871004, 0.32976598502349, 0.6675750428524311, 0.9271614433932629, 0.941679416757721, 0.9368934083718911, 0.9006659034235149, 0.9273039002627765, 0.9482179742168725, 0.867071203088063, 0.9460865177330985, 0.10512072419256649], \"Term\": [\"adversarial\", \"ai\", \"ai\", \"ai\", \"ainan\", \"airbnb\", \"analysis\", \"analysis\", \"analysis\", \"analyze\", \"and\", \"and\", \"and\", \"article\", \"article\", \"artificial\", \"basics\", \"best\", \"best\", \"best\", \"bot\", \"brief\", \"brief\", \"build\", \"build\", \"building\", \"building\", \"building\", \"churn\", \"classification\", \"classification\", \"classmarkupem\", \"classmarkupem\", \"classmarkupem\", \"classmarkupstrong\", \"classmarkupstrong\", \"cloud\", \"cnn\", \"cnn\", \"code\", \"components\", \"computer\", \"could\", \"create\", \"create\", \"creating\", \"data\", \"data\", \"data\", \"decision\", \"deep\", \"design\", \"detection\", \"different\", \"digital\", \"dimensionality\", \"every\", \"explanation\", \"first\", \"first\", \"first\", \"forecasting\", \"framework\", \"future\", \"future\", \"generative\", \"gentle\", \"good\", \"google\", \"google\", \"graph\", \"guide\", \"guide\", \"guide\", \"human\", \"human\", \"image\", \"image\", \"images\", \"implementation\", \"intelligence\", \"interactive\", \"introduction\", \"introduction\", \"introduction\", \"intuition\", \"its\", \"job\", \"keras\", \"know\", \"language\", \"learn\", \"learn\", \"learned\", \"learning\", \"learningnan\", \"learningnan\", \"lessons\", \"linear\", \"linear\", \"logistic\", \"lstm\", \"machine\", \"machine\", \"make\", \"make\", \"make\", \"ml\", \"model\", \"model\", \"model\", \"models\", \"models\", \"modern\", \"modern\", \"nan\", \"nan\", \"natural\", \"need\", \"network\", \"networks\", \"networks\", \"neural\", \"neural\", \"new\", \"new\", \"new\", \"numpy\", \"object\", \"one\", \"one\", \"part\", \"part\", \"part\", \"patterns\", \"patterns\", \"predicting\", \"predicting\", \"predicting\", \"principal\", \"processing\", \"python\", \"python\", \"pythonnan\", \"pytorch\", \"random\", \"recognition\", \"recommendation\", \"regression\", \"regression\", \"reinforcement\", \"research\", \"science\", \"scientist\", \"scraping\", \"segmentation\", \"selection\", \"series\", \"series\", \"simple\", \"simple\", \"simple\", \"skills\", \"software\", \"state\", \"step\", \"story\", \"strong\", \"strong\", \"tensorflow\", \"tensorflow\", \"text\", \"text\", \"the\", \"the\", \"the\", \"time\", \"tips\", \"tips\", \"tool\", \"tools\", \"top\", \"training\", \"training\", \"two\", \"types\", \"understanding\", \"understanding\", \"use\", \"use\", \"used\", \"using\", \"using\", \"vision\", \"way\", \"web\", \"without\", \"work\", \"world\", \"write\", \"year\", \"year\"]}, \"R\": 30, \"lambda.step\": 0.01, \"plot.opts\": {\"xlab\": \"PC1\", \"ylab\": \"PC2\"}, \"topic.order\": [3, 1, 2]};\n",
              "\n",
              "function LDAvis_load_lib(url, callback){\n",
              "  var s = document.createElement('script');\n",
              "  s.src = url;\n",
              "  s.async = true;\n",
              "  s.onreadystatechange = s.onload = callback;\n",
              "  s.onerror = function(){console.warn(\"failed to load library \" + url);};\n",
              "  document.getElementsByTagName(\"head\")[0].appendChild(s);\n",
              "}\n",
              "\n",
              "if(typeof(LDAvis) !== \"undefined\"){\n",
              "   // already loaded: just create the visualization\n",
              "   !function(LDAvis){\n",
              "       new LDAvis(\"#\" + \"ldavis_el1251402086959564888679250013\", ldavis_el1251402086959564888679250013_data);\n",
              "   }(LDAvis);\n",
              "}else if(typeof define === \"function\" && define.amd){\n",
              "   // require.js is available: use it to load d3/LDAvis\n",
              "   require.config({paths: {d3: \"https://cdnjs.cloudflare.com/ajax/libs/d3/3.5.5/d3.min\"}});\n",
              "   require([\"d3\"], function(d3){\n",
              "      window.d3 = d3;\n",
              "      LDAvis_load_lib(\"https://cdn.rawgit.com/bmabey/pyLDAvis/files/ldavis.v1.0.0.js\", function(){\n",
              "        new LDAvis(\"#\" + \"ldavis_el1251402086959564888679250013\", ldavis_el1251402086959564888679250013_data);\n",
              "      });\n",
              "    });\n",
              "}else{\n",
              "    // require.js not available: dynamically load d3 & LDAvis\n",
              "    LDAvis_load_lib(\"https://cdnjs.cloudflare.com/ajax/libs/d3/3.5.5/d3.min.js\", function(){\n",
              "         LDAvis_load_lib(\"https://cdn.rawgit.com/bmabey/pyLDAvis/files/ldavis.v1.0.0.js\", function(){\n",
              "                 new LDAvis(\"#\" + \"ldavis_el1251402086959564888679250013\", ldavis_el1251402086959564888679250013_data);\n",
              "            })\n",
              "         });\n",
              "}\n",
              "</script>"
            ],
            "text/plain": [
              "PreparedData(topic_coordinates=              x         y  topics  cluster       Freq\n",
              "topic                                                \n",
              "2      0.167121 -0.088091       1        1  35.640392\n",
              "0     -0.177393 -0.073627       2        1  32.851065\n",
              "1      0.010271  0.161718       3        1  31.508543, topic_info=                   Term        Freq       Total Category  logprob  loglift\n",
              "680            learning  195.000000  195.000000  Default  30.0000  30.0000\n",
              "294                data  306.000000  306.000000  Default  29.0000  29.0000\n",
              "724             machine  148.000000  148.000000  Default  28.0000  28.0000\n",
              "1068            science   88.000000   88.000000  Default  27.0000  27.0000\n",
              "315                deep   83.000000   83.000000  Default  26.0000  26.0000\n",
              "...                 ...         ...         ...      ...      ...      ...\n",
              "859                 one   10.288473   16.298488   Topic3  -5.5562   0.6949\n",
              "791               model   13.699939   49.128923   Topic3  -5.2699  -0.1221\n",
              "210   classmarkupstrong   13.098850   58.535921   Topic3  -5.3147  -0.3422\n",
              "163            building   10.687400   24.079245   Topic3  -5.5182   0.3426\n",
              "1172             strong   11.472645   46.472590   Topic3  -5.4473  -0.2440\n",
              "\n",
              "[179 rows x 6 columns], token_table=      Topic      Freq         Term\n",
              "term                              \n",
              "17        2  0.869395  adversarial\n",
              "24        1  0.470968           ai\n",
              "24        2  0.524793           ai\n",
              "24        3  0.013456           ai\n",
              "26        2  0.828027        ainan\n",
              "...     ...       ...          ...\n",
              "1348      2  0.927304         work\n",
              "1352      2  0.948218        world\n",
              "1355      1  0.867071        write\n",
              "1360      1  0.946087         year\n",
              "1360      3  0.105121         year\n",
              "\n",
              "[202 rows x 3 columns], R=30, lambda_step=0.01, plot_opts={'xlab': 'PC1', 'ylab': 'PC2'}, topic_order=[3, 1, 2])"
            ]
          },
          "metadata": {
            "tags": []
          },
          "execution_count": 20
        }
      ]
    },
    {
      "cell_type": "code",
      "metadata": {
        "id": "73fIrHedN107",
        "colab_type": "code",
        "colab": {
          "base_uri": "https://localhost:8080/",
          "height": 476
        },
        "outputId": "a271520b-1757-43dc-fc76-7c7129874a30"
      },
      "source": [
        "#Allocate articles into topics.\n",
        "topic_values = LDA.transform(doc_term_matrix)\n",
        "df_data_science['topic'] = topic_values.argmax(axis=1)\n",
        "df_data_science.head(10)"
      ],
      "execution_count": 23,
      "outputs": [
        {
          "output_type": "stream",
          "text": [
            "/usr/local/lib/python3.6/dist-packages/ipykernel_launcher.py:3: SettingWithCopyWarning: \n",
            "A value is trying to be set on a copy of a slice from a DataFrame.\n",
            "Try using .loc[row_indexer,col_indexer] = value instead\n",
            "\n",
            "See the caveats in the documentation: https://pandas.pydata.org/pandas-docs/stable/user_guide/indexing.html#returning-a-view-versus-a-copy\n",
            "  This is separate from the ipykernel package so we can avoid doing imports until\n"
          ],
          "name": "stderr"
        },
        {
          "output_type": "execute_result",
          "data": {
            "text/html": [
              "<div>\n",
              "<style scoped>\n",
              "    .dataframe tbody tr th:only-of-type {\n",
              "        vertical-align: middle;\n",
              "    }\n",
              "\n",
              "    .dataframe tbody tr th {\n",
              "        vertical-align: top;\n",
              "    }\n",
              "\n",
              "    .dataframe thead th {\n",
              "        text-align: right;\n",
              "    }\n",
              "</style>\n",
              "<table border=\"1\" class=\"dataframe\">\n",
              "  <thead>\n",
              "    <tr style=\"text-align: right;\">\n",
              "      <th></th>\n",
              "      <th>title</th>\n",
              "      <th>claps</th>\n",
              "      <th>responses</th>\n",
              "      <th>reading_time</th>\n",
              "      <th>date</th>\n",
              "      <th>topic</th>\n",
              "    </tr>\n",
              "  </thead>\n",
              "  <tbody>\n",
              "    <tr>\n",
              "      <th>0</th>\n",
              "      <td>beginners guide word embedding gensim wordvec ...</td>\n",
              "      <td>850</td>\n",
              "      <td>8</td>\n",
              "      <td>8</td>\n",
              "      <td>2019-05-30</td>\n",
              "      <td>2</td>\n",
              "    </tr>\n",
              "    <tr>\n",
              "      <th>1</th>\n",
              "      <td>handson graph neural networks pytorch pytorch ...</td>\n",
              "      <td>1100</td>\n",
              "      <td>11</td>\n",
              "      <td>9</td>\n",
              "      <td>2019-05-30</td>\n",
              "      <td>2</td>\n",
              "    </tr>\n",
              "    <tr>\n",
              "      <th>2</th>\n",
              "      <td>use ggplot pythona grammar graphics python</td>\n",
              "      <td>767</td>\n",
              "      <td>1</td>\n",
              "      <td>5</td>\n",
              "      <td>2019-05-30</td>\n",
              "      <td>1</td>\n",
              "    </tr>\n",
              "    <tr>\n",
              "      <th>3</th>\n",
              "      <td>databricks save files csv local computerwhen w...</td>\n",
              "      <td>354</td>\n",
              "      <td>0</td>\n",
              "      <td>4</td>\n",
              "      <td>2019-05-30</td>\n",
              "      <td>0</td>\n",
              "    </tr>\n",
              "    <tr>\n",
              "      <th>4</th>\n",
              "      <td>stepbystep implementation gradient descent bac...</td>\n",
              "      <td>211</td>\n",
              "      <td>3</td>\n",
              "      <td>4</td>\n",
              "      <td>2019-05-30</td>\n",
              "      <td>1</td>\n",
              "    </tr>\n",
              "    <tr>\n",
              "      <th>5</th>\n",
              "      <td>easy introduction sql data scientistsnan</td>\n",
              "      <td>563</td>\n",
              "      <td>1</td>\n",
              "      <td>8</td>\n",
              "      <td>2019-05-30</td>\n",
              "      <td>0</td>\n",
              "    </tr>\n",
              "    <tr>\n",
              "      <th>6</th>\n",
              "      <td>hypothesis testing visualizedliterally seeing ...</td>\n",
              "      <td>276</td>\n",
              "      <td>1</td>\n",
              "      <td>12</td>\n",
              "      <td>2019-05-30</td>\n",
              "      <td>0</td>\n",
              "    </tr>\n",
              "    <tr>\n",
              "      <th>7</th>\n",
              "      <td>introduction latent matrix factorization recom...</td>\n",
              "      <td>126</td>\n",
              "      <td>2</td>\n",
              "      <td>5</td>\n",
              "      <td>2019-05-30</td>\n",
              "      <td>2</td>\n",
              "    </tr>\n",
              "    <tr>\n",
              "      <th>8</th>\n",
              "      <td>candidate best twittera data analysis democrat...</td>\n",
              "      <td>188</td>\n",
              "      <td>3</td>\n",
              "      <td>8</td>\n",
              "      <td>2019-05-30</td>\n",
              "      <td>0</td>\n",
              "    </tr>\n",
              "    <tr>\n",
              "      <th>9</th>\n",
              "      <td>ai model understanding easysee analyticsforai ...</td>\n",
              "      <td>493</td>\n",
              "      <td>2</td>\n",
              "      <td>8</td>\n",
              "      <td>2019-05-30</td>\n",
              "      <td>2</td>\n",
              "    </tr>\n",
              "  </tbody>\n",
              "</table>\n",
              "</div>"
            ],
            "text/plain": [
              "                                               title  claps  ...        date  topic\n",
              "0  beginners guide word embedding gensim wordvec ...    850  ...  2019-05-30      2\n",
              "1  handson graph neural networks pytorch pytorch ...   1100  ...  2019-05-30      2\n",
              "2         use ggplot pythona grammar graphics python    767  ...  2019-05-30      1\n",
              "3  databricks save files csv local computerwhen w...    354  ...  2019-05-30      0\n",
              "4  stepbystep implementation gradient descent bac...    211  ...  2019-05-30      1\n",
              "5           easy introduction sql data scientistsnan    563  ...  2019-05-30      0\n",
              "6  hypothesis testing visualizedliterally seeing ...    276  ...  2019-05-30      0\n",
              "7  introduction latent matrix factorization recom...    126  ...  2019-05-30      2\n",
              "8  candidate best twittera data analysis democrat...    188  ...  2019-05-30      0\n",
              "9  ai model understanding easysee analyticsforai ...    493  ...  2019-05-30      2\n",
              "\n",
              "[10 rows x 6 columns]"
            ]
          },
          "metadata": {
            "tags": []
          },
          "execution_count": 23
        }
      ]
    },
    {
      "cell_type": "markdown",
      "metadata": {
        "id": "m69r0YwgNXjr",
        "colab_type": "text"
      },
      "source": [
        "WHICH TOPICS ARE MOST LIKELY TO GET ATTENTION?"
      ]
    },
    {
      "cell_type": "code",
      "metadata": {
        "id": "t8ubQkhZNag-",
        "colab_type": "code",
        "colab": {
          "base_uri": "https://localhost:8080/",
          "height": 213
        },
        "outputId": "3a655a29-730b-4990-c342-fadb675ccc00"
      },
      "source": [
        "df_data_science[\"topic\"].replace(0,\"Deep Learning and AI\",inplace=True)\n",
        "df_data_science[\"topic\"].replace(1,\"General Data Analysis\",inplace=True)\n",
        "df_data_science[\"topic\"].replace(2,\"Machine Learning Modeling\",inplace=True)\n",
        "avg_claps_by_topic = df_data_science.groupby(by=[\"topic\"]).mean()[\"claps\"].reset_index()\n",
        "avg_reading_time_by_topic = df_data_science.groupby(by=[\"topic\"]).mean\n",
        "print(avg_claps_by_topic) # No significant difference.\n"
      ],
      "execution_count": 26,
      "outputs": [
        {
          "output_type": "stream",
          "text": [
            "                       topic       claps\n",
            "0       Deep Learning and AI  263.275862\n",
            "1      General Data Analysis  302.196507\n",
            "2  Machine Learning Modeling  286.637255\n",
            "<bound method GroupBy.mean of <pandas.core.groupby.generic.DataFrameGroupBy object at 0x7f84e16e4f28>>\n"
          ],
          "name": "stdout"
        },
        {
          "output_type": "stream",
          "text": [
            "/usr/local/lib/python3.6/dist-packages/pandas/core/generic.py:6746: SettingWithCopyWarning: \n",
            "A value is trying to be set on a copy of a slice from a DataFrame\n",
            "\n",
            "See the caveats in the documentation: https://pandas.pydata.org/pandas-docs/stable/user_guide/indexing.html#returning-a-view-versus-a-copy\n",
            "  self._update_inplace(new_data)\n"
          ],
          "name": "stderr"
        }
      ]
    },
    {
      "cell_type": "code",
      "metadata": {
        "id": "Xav2q8XUPBE0",
        "colab_type": "code",
        "colab": {
          "base_uri": "https://localhost:8080/",
          "height": 34
        },
        "outputId": "b93d7e6f-8e1f-44e8-95f9-4f5b03a33931"
      },
      "source": [
        ""
      ],
      "execution_count": 27,
      "outputs": [
        {
          "output_type": "stream",
          "text": [
            "<bound method GroupBy.mean of <pandas.core.groupby.generic.DataFrameGroupBy object at 0x7f84e16e4f28>>\n"
          ],
          "name": "stdout"
        }
      ]
    }
  ]
}